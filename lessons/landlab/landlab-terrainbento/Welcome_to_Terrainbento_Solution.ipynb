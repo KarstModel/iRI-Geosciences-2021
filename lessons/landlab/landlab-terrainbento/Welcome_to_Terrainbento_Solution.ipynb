{
 "cells": [
  {
   "cell_type": "markdown",
   "metadata": {},
   "source": [
    "![Changing_landscapes2021](../../media/Changing_landscapes2021_a.jpg)"
   ]
  },
  {
   "cell_type": "markdown",
   "metadata": {},
   "source": [
    "# Welcome to terrainbento\n",
    "\n",
    "If you are interested in reading about the details of terrainbento, this package is described in [Barnhart et al. (2019)](https://www.geosci-model-dev.net/12/1267/2019/).\n",
    "\n",
    "The documentation for the package is provided [here](http://terrainbento.readthedocs.io/en/latest/).\n",
    "\n",
    "If you are interested in the source code, you can find it [on GitHub](https://github.com/TerrainBento/terrainbento). If there is a feature that terrainbento does not have that you are interested in, if you have a clarification question, or if you find an error, please make an [Issue on GitHub](https://github.com/TerrainBento/terrainbento/issues) so we can improve the package. \n",
    "\n",
    "This notebook exists to provide a hyperlinked guide to the supporting examples, tests, and tutorials we have created in support of this package. \n",
    "\n",
    "## Introduction\n",
    "\n",
    "terrainbento was designed to make it easy to create alternative models to be compared in Earth surface dynamics. The package has 28 model programs and a model base class that makes it possible to make additional models within the same framework. \n",
    "\n",
    "The simplest model, called Basic, evolves topography using stream power and linear diffusion. It has the following governing equation:\n",
    "\n",
    "$\\frac{\\partial \\eta}{\\partial t} = - KQ^{m}S^{n} + D\\nabla^2 \\eta$\n",
    "\n",
    "\n",
    "where $K$ and $D$ are constants, $Q$ is discharge, $S$ is local slope, and $\\eta$ is the topography. Other models modify Basic by adding or changing a process component and changing the governing equation. See the [model Basic documentation](https://terrainbento.readthedocs.io/en/latest/source/terrainbento.derived_models.model_basic.html) for additional information. "
   ]
  },
  {
   "cell_type": "markdown",
   "metadata": {},
   "source": [
    "## Let's evolve a landscape \n",
    "Let's start by simulating Landscape evolution on a simple grid using the Basic model"
   ]
  },
  {
   "cell_type": "code",
   "execution_count": 1,
   "metadata": {},
   "outputs": [],
   "source": [
    "from terrainbento import Basic\n",
    "\n",
    "# Figure properties \n",
    "import warnings\n",
    "warnings.filterwarnings('ignore')\n",
    "%matplotlib inline"
   ]
  },
  {
   "cell_type": "markdown",
   "metadata": {},
   "source": [
    "What do we need to run the Basic model? \n",
    "\n",
    "*Note that Basic is a class inheriting from the ErosionModel base class. If you want to learn more on classes, objects and instances, check out [this](https://csdms.colorado.edu/wiki/Presenters-0479) webinar.*"
   ]
  },
  {
   "cell_type": "code",
   "execution_count": 2,
   "metadata": {},
   "outputs": [
    {
     "data": {
      "text/plain": [
       "terrainbento.derived_models.model_basic.Basic"
      ]
     },
     "execution_count": 2,
     "metadata": {},
     "output_type": "execute_result"
    }
   ],
   "source": [
    "# Show the documentation for the Basic model\n",
    "Basic"
   ]
  },
  {
   "cell_type": "markdown",
   "metadata": {},
   "source": [
    "We need a [Clock](https://terrainbento.readthedocs.io/en/latest/source/terrainbento.clock.html) instance. The terrainbento Clock controls the timing of model runs.\n"
   ]
  },
  {
   "cell_type": "code",
   "execution_count": 3,
   "metadata": {},
   "outputs": [],
   "source": [
    "from terrainbento import Clock"
   ]
  },
  {
   "cell_type": "markdown",
   "metadata": {},
   "source": [
    "* Figure out what input arguments are needed to create a Clock instance. \n",
    "* Create a clock instance with: \n",
    "        * a model start time of 0\n",
    "        * a total model time of 103 years \n",
    "        * a timestep of 100 years"
   ]
  },
  {
   "cell_type": "code",
   "execution_count": 4,
   "metadata": {},
   "outputs": [],
   "source": [
    "clock = Clock(stop=10e3, step = 100)"
   ]
  },
  {
   "cell_type": "markdown",
   "metadata": {},
   "source": [
    "* Make a Landlab raster grid of 15 rows, 20 columns, and 100-unit grid spacing. \n",
    "* Add a field that holds values of topographic elevation at the grid nodes. Make it zero everywhere\n"
   ]
  },
  {
   "cell_type": "code",
   "execution_count": 5,
   "metadata": {},
   "outputs": [
    {
     "data": {
      "image/png": "[encoded data removed]",
      "text/plain": [
       "<Figure size 432x288 with 2 Axes>"
      ]
     },
     "metadata": {
      "needs_background": "light"
     },
     "output_type": "display_data"
    }
   ],
   "source": [
    "# Create a Landlab raster grid\n",
    "from landlab import RasterModelGrid\n",
    "grid = RasterModelGrid((15,20),100)\n",
    "grid.add_zeros('topographic__elevation',at='node')\n",
    "\n",
    "\n",
    "# Make a figure of the grid\n",
    "from landlab import imshow_grid\n",
    "imshow_grid(grid, 'topographic__elevation')"
   ]
  },
  {
   "cell_type": "markdown",
   "metadata": {},
   "source": [
    "Create a randomized initial topography"
   ]
  },
  {
   "cell_type": "code",
   "execution_count": 6,
   "metadata": {},
   "outputs": [],
   "source": [
    "from landlab.values import random"
   ]
  },
  {
   "cell_type": "code",
   "execution_count": 7,
   "metadata": {},
   "outputs": [
    {
     "data": {
      "text/plain": [
       "['topographic__elevation']"
      ]
     },
     "execution_count": 7,
     "metadata": {},
     "output_type": "execute_result"
    },
    {
     "data": {
      "image/png": "[encoded data removed]",
      "text/plain": [
       "<Figure size 432x288 with 2 Axes>"
      ]
     },
     "metadata": {
      "needs_background": "light"
     },
     "output_type": "display_data"
    }
   ],
   "source": [
    "random(grid, \"topographic__elevation\")\n",
    "imshow_grid(grid, 'topographic__elevation')\n",
    "grid.at_node.keys()"
   ]
  },
  {
   "cell_type": "markdown",
   "metadata": {},
   "source": [
    "Now that we have a clock and a grid, let's initialize \n",
    "the model using the default Basic model constructor (the `__init__` method). "
   ]
  },
  {
   "cell_type": "code",
   "execution_count": 8,
   "metadata": {},
   "outputs": [],
   "source": [
    "model = Basic(clock, grid)"
   ]
  },
  {
   "cell_type": "markdown",
   "metadata": {},
   "source": [
    "Check all the fields associated to the grid"
   ]
  },
  {
   "cell_type": "code",
   "execution_count": 9,
   "metadata": {},
   "outputs": [
    {
     "data": {
      "text/plain": [
       "['topographic__elevation',\n",
       " 'cumulative_elevation_change',\n",
       " 'initial_topographic__elevation',\n",
       " 'rainfall__flux',\n",
       " 'water__unit_flux_in',\n",
       " 'drainage_area',\n",
       " 'flow__data_structure_delta',\n",
       " 'flow__upstream_node_order',\n",
       " 'surface_water__discharge',\n",
       " 'flow__sink_flag',\n",
       " 'flow__link_to_receiver_node',\n",
       " 'flow__receiver_node',\n",
       " 'topographic__steepest_slope']"
      ]
     },
     "execution_count": 9,
     "metadata": {},
     "output_type": "execute_result"
    }
   ],
   "source": [
    "grid.at_node.keys()"
   ]
  },
  {
   "cell_type": "markdown",
   "metadata": {},
   "source": [
    "Terainbento is adhering to the principles of the basic model interface (BMI)\n",
    "To run the model as specified, we execute the following line:"
   ]
  },
  {
   "cell_type": "code",
   "execution_count": 10,
   "metadata": {},
   "outputs": [],
   "source": [
    "model.run()"
   ]
  },
  {
   "cell_type": "markdown",
   "metadata": {},
   "source": [
    "## What did actually happen? \n",
    "Make a plot of the initial and final topography"
   ]
  },
  {
   "cell_type": "code",
   "execution_count": 11,
   "metadata": {},
   "outputs": [
    {
     "data": {
      "image/png": "[encoded data removed]",
      "text/plain": [
       "<Figure size 432x288 with 2 Axes>"
      ]
     },
     "metadata": {
      "needs_background": "light"
     },
     "output_type": "display_data"
    },
    {
     "data": {
      "image/png": "[encoded data removed]",
      "text/plain": [
       "<Figure size 432x288 with 2 Axes>"
      ]
     },
     "metadata": {
      "needs_background": "light"
     },
     "output_type": "display_data"
    }
   ],
   "source": [
    "from matplotlib import pyplot as plt\n",
    "plt.figure()\n",
    "imshow_grid(model.grid, \"initial_topographic__elevation\")\n",
    "plt.show()\n",
    "plt.figure()\n",
    "imshow_grid(model.grid, \"topographic__elevation\")\n",
    "plt.show()"
   ]
  },
  {
   "cell_type": "markdown",
   "metadata": {},
   "source": [
    "### Challenge\n",
    "Make a new Basic model instance, run an plot the initial and calculated topography assuming: \n",
    "* a grid of 80 by 50 cells, and 100-unit grid spacing. \n",
    "* an initial random topography\n",
    "* a water_erodibility coefficient of 2e-4\n",
    "* a regolith_transport_parameter of 0.2\n",
    "* a total model run time of 1e5 years and a step of 2000 years"
   ]
  },
  {
   "cell_type": "code",
   "execution_count": null,
   "metadata": {},
   "outputs": [],
   "source": [
    "from landlab import RasterModelGrid\n",
    "from landlab.values import random\n",
    "from terrainbento import Clock\n",
    "from terrainbento import Basic\n",
    "grid2 = RasterModelGrid((30,20),100)\n",
    "random(grid2, 'topographic__elevation')\n",
    "clock = Clock(stop = 1e6, step = 2000)\n",
    "model2 = Basic(clock,grid2,water_erodibility=5e-4,regolith_transport_parameter=0.01)\n",
    "model2.run()\n",
    "plt.figure()\n",
    "imshow_grid(model2.grid, \"initial_topographic__elevation\")\n",
    "plt.show()\n",
    "plt.figure()\n",
    "imshow_grid(model2.grid, \"topographic__elevation\")\n",
    "plt.show()"
   ]
  },
  {
   "cell_type": "markdown",
   "metadata": {},
   "source": [
    "Looks a little strange... why? How can we change this? "
   ]
  },
  {
   "cell_type": "code",
   "execution_count": 13,
   "metadata": {},
   "outputs": [
    {
     "data": {
      "text/plain": [
       "{}"
      ]
     },
     "execution_count": 13,
     "metadata": {},
     "output_type": "execute_result"
    }
   ],
   "source": [
    "# We need uplift\n",
    "from terrainbento import ErosionModel\n",
    "ErosionModel\n",
    "#We need to adjust the boundary_handlers\n",
    "# What is the default value of the boundary_handler? #None\n",
    "model.boundary_handlers"
   ]
  },
  {
   "cell_type": "markdown",
   "metadata": {},
   "source": [
    "# Boundary Handlers"
   ]
  },
  {
   "cell_type": "code",
   "execution_count": 15,
   "metadata": {},
   "outputs": [
    {
     "name": "stdout",
     "output_type": "stream",
     "text": [
      "[[ 0.  0.  0.  0.  0.]\n",
      " [ 0.  0.  0.  0.  0.]\n",
      " [ 0.  0.  0.  0.  0.]\n",
      " [ 0.  0.  0.  0.  0.]\n",
      " [ 0.  0.  0.  0.  0.]]\n",
      "[[-1. -1. -1. -1. -1.]\n",
      " [-1.  0.  0.  0. -1.]\n",
      " [-1.  0.  0.  0. -1.]\n",
      " [-1.  0.  0.  0. -1.]\n",
      " [-1. -1. -1. -1. -1.]]\n"
     ]
    }
   ],
   "source": [
    "#How do we set a boundary handler? Boundary condition handlers are similar to landlab components. \n",
    "#They have an init method, and a run_one_step method \n",
    "from terrainbento import NotCoreNodeBaselevelHandler\n",
    "#Lowering rate of the outlet node. \n",
    "grid3 = RasterModelGrid((5,5),10)\n",
    "z = grid3.add_zeros('topographic__elevation',at='node')\n",
    "bd_handler = NotCoreNodeBaselevelHandler(grid3,modify_core_nodes=False,lowering_rate=-0.1)\n",
    "\n",
    "print(z.reshape(grid3.shape))\n",
    "bd_handler.run_one_step(step=10)\n",
    "print(z.reshape(grid3.shape))"
   ]
  },
  {
   "cell_type": "markdown",
   "metadata": {},
   "source": [
    "How to provide this info to a terrainbento model run? \n",
    "\n",
    "From [documentation](https://terrainbento.readthedocs.io/en/latest/source/terrainbento.base_class.erosion_model.html): \n",
    "boundary_handlers (dictionary, optional) – Dictionary with `name: instance` key-value pairs. Each entry must be a valid instance of a terrainbento boundary handler."
   ]
  },
  {
   "cell_type": "code",
   "execution_count": null,
   "metadata": {},
   "outputs": [],
   "source": [
    "# Provide the information of the boundary handler as a dictionary\n",
    "model_bd_handler ={\"NotCoreNodeBaselevelHandler\": bd_handler}"
   ]
  },
  {
   "cell_type": "markdown",
   "metadata": {},
   "source": [
    "### Challenge 1.2 \n",
    "Make a new Basic model instance, run an plot the initial and calculated topography assuming: \n",
    "* a grid of 80 by 50 cells, and 100-unit grid spacing. \n",
    "* an initial random topography\n",
    "* a water_erodibility coefficient of 2e-4\n",
    "* a regolith_transport_parameter of 0.2\n",
    "* a total model run time of 1e5 years and a step of 2000 years\n",
    "* an uplift rate of 0.002 m/year (sea level stays fixed at ca. 0m) "
   ]
  },
  {
   "cell_type": "code",
   "execution_count": null,
   "metadata": {},
   "outputs": [],
   "source": [
    "from landlab import RasterModelGrid\n",
    "from landlab.values import random\n",
    "from terrainbento import Clock\n",
    "from terrainbento import Basic\n",
    "grid2 = RasterModelGrid((80,50),100)\n",
    "random(grid2, 'topographic__elevation')\n",
    "clock = Clock(stop = 1e5, step = 2000)\n",
    "# Provide the information of the boundary handler as a dictionary\n",
    "bd_handler = NotCoreNodeBaselevelHandler(grid2,modify_core_nodes=True,lowering_rate=-0.002)\n",
    "bd_handler ={\"NotCoreNodeBaselevelHandler\": bd_handler}\n",
    "model2 = Basic(clock,grid2,water_erodibility=2e-4,regolith_transport_parameter=0.2,\n",
    "               boundary_handlers=bd_handler)\n",
    "model2.run()\n",
    "plt.figure()\n",
    "imshow_grid(model2.grid, \"initial_topographic__elevation\")\n",
    "plt.show()\n",
    "plt.figure()\n",
    "imshow_grid(model2.grid, \"topographic__elevation\")\n",
    "plt.show()"
   ]
  },
  {
   "cell_type": "markdown",
   "metadata": {},
   "source": [
    "## Example usage\n",
    "\n",
    "There are three additional introductory tutorials.\n",
    "\n",
    "1) [Introduction terrainbento](example_usage/Introduction_to_terrainbento.ipynb)\n",
    "    \n",
    "2) [Introduction to boundary conditions in terrainbento](example_usage/introduction_to_boundary_conditions.ipynb)\n",
    "    \n",
    "3) [Introduction to output writers in terrainbento](example_usage/introduction_to_output_writers.ipynb). \n",
    "    \n",
    "\n",
    "## Example Coupled Models\n",
    "\n",
    "This section provides links to five notebooks that show the usage of five example models provided in terrainbento. In each of these notebooks we provide the governing equation(s) for the model, initialize and run the model, make a slope-area plot, save a NetCDF of the final topography, and plot a image of the final topography. \n",
    "\n",
    "1) [Basic](coupled_process_elements/model_basic_steady_solution.ipynb) the simplest landscape evolution model in the terrainbento package.\n",
    "\n",
    "2) [BasicVm](coupled_process_elements/model_basic_var_m_steady_solution.ipynb) which permits the drainage area exponent to change\n",
    "\n",
    "3) [BasicCh](coupled_process_elements/model_basicCh_steady_solution.ipynb) which uses a non-linear hillslope erosion and transport law\n",
    "\n",
    "4) [BasicVs](coupled_process_elements/model_basicVs_steady_solution.ipynb) which uses variable source area hydrology\n",
    "\n",
    "5) [BasisRt](coupled_process_elements/model_basicRt_steady_solution.ipynb) which allows for two lithologies with different K values\n",
    "\n",
    "6) [RealDEM](coupled_process_elements/model_basic_realDEM.ipynb) Run the basic terrainbento model with a real DEM as initial condition. \n",
    "\n",
    "## Terrainnbento challenge\n",
    "- [Make your own gif](coupled_process_elements/Challenge.ipynb)"
   ]
  },
  {
   "cell_type": "code",
   "execution_count": null,
   "metadata": {},
   "outputs": [],
   "source": []
  }
 ],
 "metadata": {
  "kernelspec": {
   "display_name": "Python 3",
   "language": "python",
   "name": "python3"
  },
  "language_info": {
   "codemirror_mode": {
    "name": "ipython",
    "version": 3
   },
   "file_extension": ".py",
   "mimetype": "text/x-python",
   "name": "python",
   "nbconvert_exporter": "python",
   "pygments_lexer": "ipython3",
   "version": "3.9.4"
  }
 },
 "nbformat": 4,
 "nbformat_minor": 2
}
